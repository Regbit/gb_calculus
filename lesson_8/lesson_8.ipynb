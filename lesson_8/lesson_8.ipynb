{
 "cells": [
  {
   "cell_type": "markdown",
   "metadata": {},
   "source": [
    "## Task #1"
   ]
  },
  {
   "cell_type": "markdown",
   "metadata": {},
   "source": [
    "### $$U=3-8x+6y,$$\n",
    "### $$x^2+y^2=36$$"
   ]
  },
  {
   "cell_type": "markdown",
   "metadata": {},
   "source": [
    "### $$\\lambda(x^2+y^2-36)=0$$\n",
    "### $$L(x,y,\\lambda)=3-8x+6y+\\lambda(x^2+y^2-36)=0$$"
   ]
  },
  {
   "cell_type": "markdown",
   "metadata": {},
   "source": [
    "### $$\\begin{cases}\n",
    "   L'_{x}=-8+2\\lambda \\cdot x=0, \\\\\n",
    "   L'_{y}=6+2\\lambda \\cdot y=0, \\\\\n",
    "   L'_{\\lambda}=x^2+y^2-36=0\n",
    " \\end{cases}$$"
   ]
  },
  {
   "cell_type": "markdown",
   "metadata": {},
   "source": [
    "### $$\\begin{cases}\n",
    "   x=\\frac{4}{\\lambda}, \\\\\n",
    "   y=-\\frac{3}{\\lambda}, \\\\\n",
    "   \\frac{16}{\\lambda^2}+\\frac{9}{\\lambda^2}-36=0\n",
    " \\end{cases}\\Rightarrow \\begin{cases}\n",
    "   x=\\frac{4}{\\lambda}, \\\\\n",
    "   y=-\\frac{3}{\\lambda}, \\\\\n",
    "   \\lambda^2=\\frac{3}{4}\n",
    " \\end{cases}$$"
   ]
  },
  {
   "cell_type": "markdown",
   "metadata": {},
   "source": [
    "$$A=(\\frac{8}{\\sqrt{3}},-\\frac{6}{\\sqrt{3}},\\frac{\\sqrt{3}}{2}), B=(-\\frac{8}{\\sqrt{3}},\\frac{6}{\\sqrt{3}},-\\frac{\\sqrt{3}}{2})$$"
   ]
  },
  {
   "cell_type": "markdown",
   "metadata": {},
   "source": [
    "### $$L''_{xx}=2\\lambda$$\n",
    "### $$L''_{yy}=2\\lambda$$\n",
    "### $$L''_{\\lambda \\lambda}=0$$\n",
    "### $$L''_{xy}=L''_{yx}=0$$\n",
    "### $$L''_{x\\lambda}=L''_{\\lambda x}=2x$$\n",
    "### $$L''_{y\\lambda}=L''_{\\lambda y}=2y$$ "
   ]
  },
  {
   "cell_type": "markdown",
   "metadata": {},
   "source": [
    "### $$\\begin{pmatrix}\n",
    "L''_{\\lambda \\lambda} & L''_{\\lambda x} & L''_{\\lambda y}\\\\ \n",
    "L''_{x \\lambda} & L''_{xx} & L''_{xy}\\\\\n",
    "L''_{y \\lambda} & L''_{yx} & L''_{yy}\\\\\n",
    "\\end{pmatrix}\\Rightarrow\n",
    "\\begin{pmatrix}\n",
    "0 & 2x & 2y\\\\ \n",
    "2x & 2\\lambda & 0\\\\\n",
    "2y & 0 & 2\\lambda\\\\\n",
    "\\end{pmatrix}$$"
   ]
  },
  {
   "cell_type": "markdown",
   "metadata": {},
   "source": [
    "### $$\\Delta=\\begin{vmatrix}\n",
    "0 & 2x & 2y\\\\ \n",
    "2x & 2\\lambda & 0\\\\\n",
    "2y & 0 & 2\\lambda\\\\\n",
    "\\end{vmatrix}=\n",
    "\\begin{vmatrix}\n",
    "+ & - & +\\\\ \n",
    "- & + & -\\\\\n",
    "+ & - & +\\\\\n",
    "\\end{vmatrix}=0\\cdot\n",
    "\\begin{vmatrix}\n",
    "2\\lambda & 0\\\\\n",
    "0 & 2\\lambda\\\\\n",
    "\\end{vmatrix}-2x\\cdot\n",
    "\\begin{vmatrix}\n",
    "2x & 0\\\\\n",
    "2y & 2\\lambda\\\\\n",
    "\\end{vmatrix}+2y\\cdot\n",
    "\\begin{vmatrix}\n",
    "2x & 2\\lambda\\\\\n",
    "2y & 0\\\\\n",
    "\\end{vmatrix}=(-2x)\\cdot 4x\\lambda+2y \\cdot(-4y\\lambda)=-8\\lambda(x^2+y^2)$$"
   ]
  },
  {
   "cell_type": "markdown",
   "metadata": {},
   "source": [
    "### $$\\Delta=-8\\lambda \\cdot 36 = -288\\lambda$$"
   ]
  },
  {
   "cell_type": "markdown",
   "metadata": {},
   "source": [
    "Знак определителя зависит только от знака $\\lambda$.\n",
    "\n",
    "Если $\\lambda=\\frac{\\sqrt{3}}{2}$, то $\\Delta<0$, следовательно $A=(\\frac{8}{\\sqrt{3}},-\\frac{6}{\\sqrt{3}},\\frac{\\sqrt{3}}{2})$ - точка минимума.\n",
    "\n",
    "Если $\\lambda=-\\frac{\\sqrt{3}}{2}$, то $\\Delta>0$, следовательно $B=(-\\frac{8}{\\sqrt{3}},\\frac{6}{\\sqrt{3}},-\\frac{\\sqrt{3}}{2})$ - точка максимума."
   ]
  },
  {
   "cell_type": "markdown",
   "metadata": {},
   "source": [
    "## Task #2"
   ]
  },
  {
   "cell_type": "markdown",
   "metadata": {},
   "source": [
    "### $$U=2x^2+12xy+32y^2+15,$$\n",
    "### $$x^2+16y^2=64$$"
   ]
  },
  {
   "cell_type": "markdown",
   "metadata": {},
   "source": [
    "Можно подставить\n",
    "### $$U=2\\cdot 64 + 12xy + 15$$"
   ]
  },
  {
   "cell_type": "markdown",
   "metadata": {},
   "source": [
    "### $$L(x,y,\\lambda)=128 + 12xy + 15+\\lambda(x^2+16y^2-64)=0$$"
   ]
  },
  {
   "cell_type": "markdown",
   "metadata": {},
   "source": [
    "### $$\\begin{cases}\n",
    "   L'_{x}=12y+2\\lambda x=0, \\\\\n",
    "   L'_{y}=12x+32\\lambda y=0, \\\\\n",
    "   L'_{\\lambda}=x^2+16y^2-64=0\n",
    " \\end{cases}$$"
   ]
  },
  {
   "cell_type": "markdown",
   "metadata": {},
   "source": [
    "### $$\\begin{cases}\n",
    "   y=-\\frac{\\lambda x}{6}, \\\\\n",
    "   x=-\\frac{8\\lambda y}{3}, \\\\\n",
    "   x^2+16y^2-64=0\n",
    " \\end{cases}$$"
   ]
  },
  {
   "cell_type": "markdown",
   "metadata": {},
   "source": [
    "### $$y=\\frac{\\lambda \\cdot 8\\lambda y}{6 \\cdot 3}$$\n",
    "### $$\\lambda^2 = \\frac{9}{4}$$\n",
    "### $$\\lambda = \\pm\\frac{3}{2}$$"
   ]
  },
  {
   "cell_type": "markdown",
   "metadata": {},
   "source": [
    "### $$x = \\mp4y$$\n",
    "### $$16y^2+16y^2-64=0$$\n",
    "### $$y=\\pm\\sqrt{2}$$\n",
    "### $$x=\\mp4\\sqrt{2}$$"
   ]
  },
  {
   "cell_type": "markdown",
   "metadata": {},
   "source": [
    "$$A=(-4\\sqrt{2},\\sqrt{2},\\frac{3}{2}), B=(4\\sqrt{2},-\\sqrt{2},-\\frac{3}{2})$$"
   ]
  },
  {
   "cell_type": "markdown",
   "metadata": {},
   "source": [
    "### $$L''_{xx}=2\\lambda$$\n",
    "### $$L''_{yy}=2\\lambda$$\n",
    "### $$L''_{\\lambda \\lambda}=0$$\n",
    "### $$L''_{xy}=L''_{yx}=12$$\n",
    "### $$L''_{x\\lambda}=L''_{\\lambda x}=2x$$\n",
    "### $$L''_{y\\lambda}=L''_{\\lambda y}=32y$$ "
   ]
  },
  {
   "cell_type": "markdown",
   "metadata": {},
   "source": [
    "### $$\\begin{pmatrix}\n",
    "L''_{\\lambda \\lambda} & L''_{\\lambda x} & L''_{\\lambda y}\\\\ \n",
    "L''_{x \\lambda} & L''_{xx} & L''_{xy}\\\\\n",
    "L''_{y \\lambda} & L''_{yx} & L''_{yy}\\\\\n",
    "\\end{pmatrix}\\Rightarrow\n",
    "\\begin{pmatrix}\n",
    "0 & 2x & 2y\\\\ \n",
    "2x & 2\\lambda & 0\\\\\n",
    "2y & 0 & 2\\lambda\\\\\n",
    "\\end{pmatrix}$$"
   ]
  },
  {
   "cell_type": "markdown",
   "metadata": {},
   "source": [
    "### $$\\Delta=\\begin{vmatrix}\n",
    "0 & 2x & 32y\\\\ \n",
    "2x & 2\\lambda & 12\\\\\n",
    "32y & 12 & 32\\lambda\\\\\n",
    "\\end{vmatrix}=\n",
    "\\begin{vmatrix}\n",
    "+ & - & +\\\\ \n",
    "- & + & -\\\\\n",
    "+ & - & +\\\\\n",
    "\\end{vmatrix}=-2x\\cdot\n",
    "\\begin{vmatrix}\n",
    "2x & 12\\\\\n",
    "32y & 32\\lambda\\\\\n",
    "\\end{vmatrix}+32y\\cdot\n",
    "\\begin{vmatrix}\n",
    "2x & 2\\lambda\\\\\n",
    "32y & 12\\\\\n",
    "\\end{vmatrix}=128(-x^2 \\lambda + 12xy - 16y^2 \\lambda)=128(12xy-64\\lambda)$$"
   ]
  },
  {
   "cell_type": "markdown",
   "metadata": {},
   "source": [
    "А: 128(-96-96)<0, следовательно $A=(-4\\sqrt{2},\\sqrt{2},\\frac{3}{2})$ - точка минимума.\n",
    "\n",
    "B: 128(-96+96)=0, следовательно $B=(4\\sqrt{2},-\\sqrt{2},-\\frac{3}{2})$ - точка ???"
   ]
  },
  {
   "cell_type": "markdown",
   "metadata": {},
   "source": [
    "## Task #3"
   ]
  },
  {
   "cell_type": "markdown",
   "metadata": {},
   "source": [
    "### $$\\begin{cases}\n",
    "   x^2-y^2+3xy^3-2x^2y^2+2x-3y-5=0 \\\\\n",
    "   3y^3-2x^2+2x^3y-5x^2y^2+5=0\n",
    " \\end{cases}$$"
   ]
  }
 ],
 "metadata": {
  "kernelspec": {
   "display_name": "Python 3",
   "language": "python",
   "name": "python3"
  },
  "language_info": {
   "codemirror_mode": {
    "name": "ipython",
    "version": 3
   },
   "file_extension": ".py",
   "mimetype": "text/x-python",
   "name": "python",
   "nbconvert_exporter": "python",
   "pygments_lexer": "ipython3",
   "version": "3.8.3"
  }
 },
 "nbformat": 4,
 "nbformat_minor": 4
}
