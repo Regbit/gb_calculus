{
 "cells": [
  {
   "cell_type": "markdown",
   "metadata": {},
   "source": [
    "## Task #1"
   ]
  },
  {
   "cell_type": "markdown",
   "metadata": {},
   "source": [
    "### $$\\mbox{arctg}(\\frac{y}{x})=\\ln \\sqrt{x^2+y^2}$$\n",
    "### $$\\frac{1}{1 + \\frac{y^2}{x^2}} \\cdot \\frac{y'x-y}{x^2}=\\frac{1}{\\sqrt{x^2+y^2}}\\cdot\\frac{1}{2\\sqrt{x^2 + y^2}}\\cdot (2x+2yy')$$\n",
    "### $$\\frac{y'x-y}{x^2 + y^2}=\\frac{x+yy'}{x^2 + y^2}$$\n",
    "### $$y'\\frac{x-y}{x^2 + y^2}=\\frac{x+y}{x^2 + y^2}$$\n",
    "### $$y'=\\frac{x+y}{x-y}$$"
   ]
  },
  {
   "cell_type": "code",
   "execution_count": 1,
   "metadata": {},
   "outputs": [],
   "source": [
    "from sympy import *\n",
    "init_printing()"
   ]
  },
  {
   "cell_type": "code",
   "execution_count": 12,
   "metadata": {},
   "outputs": [
    {
     "data": {
      "image/png": "[encoded data removed]",
      "text/latex": [
       "$\\displaystyle \\log{\\left(\\sqrt{x^{2} + y^{2}} \\right)} - \\operatorname{atan}{\\left(\\frac{y}{x} \\right)}$"
      ],
      "text/plain": [
       "   ⎛   _________⎞          \n",
       "   ⎜  ╱  2    2 ⎟       ⎛y⎞\n",
       "log⎝╲╱  x  + y  ⎠ - atan⎜─⎟\n",
       "                        ⎝x⎠"
      ]
     },
     "execution_count": 12,
     "metadata": {},
     "output_type": "execute_result"
    }
   ],
   "source": [
    "x,y=symbols('x y')\n",
    "f=ln(sqrt(x**2 + y**2)) - atan(y/x)\n",
    "f"
   ]
  },
  {
   "cell_type": "code",
   "execution_count": 13,
   "metadata": {},
   "outputs": [
    {
     "data": {
      "image/png": "[encoded data removed]",
      "text/latex": [
       "$\\displaystyle \\frac{- \\frac{x}{x^{2} + y^{2}} - \\frac{y}{x^{2} \\left(1 + \\frac{y^{2}}{x^{2}}\\right)}}{\\frac{y}{x^{2} + y^{2}} - \\frac{1}{x \\left(1 + \\frac{y^{2}}{x^{2}}\\right)}}$"
      ],
      "text/plain": [
       "     x           y     \n",
       "- ─────── - ───────────\n",
       "   2    2      ⎛     2⎞\n",
       "  x  + y     2 ⎜    y ⎟\n",
       "            x ⋅⎜1 + ──⎟\n",
       "               ⎜     2⎟\n",
       "               ⎝    x ⎠\n",
       "───────────────────────\n",
       "     y          1      \n",
       "  ─────── - ────────── \n",
       "   2    2     ⎛     2⎞ \n",
       "  x  + y      ⎜    y ⎟ \n",
       "            x⋅⎜1 + ──⎟ \n",
       "              ⎜     2⎟ \n",
       "              ⎝    x ⎠ "
      ]
     },
     "execution_count": 13,
     "metadata": {},
     "output_type": "execute_result"
    }
   ],
   "source": [
    "-diff(f,x)/diff(f,y)"
   ]
  },
  {
   "cell_type": "markdown",
   "metadata": {},
   "source": [
    "## Task #2"
   ]
  },
  {
   "cell_type": "markdown",
   "metadata": {},
   "source": [
    "## \\begin{cases}\n",
    "   y=\\frac{t^2}{t-1}, \\\\\n",
    "   x=\\frac{t}{t^2-1} \n",
    " \\end{cases}\n",
    " \n",
    "## \\begin{cases}\n",
    "   y'_{t}=\\frac{t(t-2)}{(t-1)^2}, \\\\\n",
    "   x'_{t}=\\frac{-t^2-1}{(t^2-1)^2} \n",
    " \\end{cases}\n",
    "###  $$y'_{x}=\\frac{y'_{t}}{x'_{t}}=\\frac{t(t-2)(t^2-1)^2}{(t-1)^2 (-t^2-1)}$$"
   ]
  },
  {
   "cell_type": "code",
   "execution_count": 15,
   "metadata": {},
   "outputs": [
    {
     "data": {
      "image/png": "[encoded data removed]",
      "text/latex": [
       "$\\displaystyle \\frac{t^{2}}{t - 1}$"
      ],
      "text/plain": [
       "   2 \n",
       "  t  \n",
       "─────\n",
       "t - 1"
      ]
     },
     "execution_count": 15,
     "metadata": {},
     "output_type": "execute_result"
    }
   ],
   "source": [
    "t=Symbol('t')\n",
    "y=t**2/(t-1)\n",
    "y"
   ]
  },
  {
   "cell_type": "code",
   "execution_count": 17,
   "metadata": {},
   "outputs": [
    {
     "data": {
      "image/png": "[encoded data removed]",
      "text/latex": [
       "$\\displaystyle \\frac{t}{t^{2} - 1}$"
      ],
      "text/plain": [
       "  t   \n",
       "──────\n",
       " 2    \n",
       "t  - 1"
      ]
     },
     "execution_count": 17,
     "metadata": {},
     "output_type": "execute_result"
    }
   ],
   "source": [
    "x=t/(t**2 - 1)\n",
    "x"
   ]
  },
  {
   "cell_type": "code",
   "execution_count": 18,
   "metadata": {},
   "outputs": [
    {
     "data": {
      "image/png": "[encoded data removed]",
      "text/latex": [
       "$\\displaystyle \\frac{- \\frac{t^{2}}{\\left(t - 1\\right)^{2}} + \\frac{2 t}{t - 1}}{- \\frac{2 t^{2}}{\\left(t^{2} - 1\\right)^{2}} + \\frac{1}{t^{2} - 1}}$"
      ],
      "text/plain": [
       "       2            \n",
       "      t        2⋅t  \n",
       " - ──────── + ───── \n",
       "          2   t - 1 \n",
       "   (t - 1)          \n",
       "────────────────────\n",
       "        2           \n",
       "     2⋅t        1   \n",
       "- ───────── + ──────\n",
       "          2    2    \n",
       "  ⎛ 2    ⎞    t  - 1\n",
       "  ⎝t  - 1⎠          "
      ]
     },
     "execution_count": 18,
     "metadata": {},
     "output_type": "execute_result"
    }
   ],
   "source": [
    "diff(y,t)/diff(x,t)"
   ]
  },
  {
   "cell_type": "markdown",
   "metadata": {},
   "source": [
    "## Task #3"
   ]
  },
  {
   "cell_type": "markdown",
   "metadata": {},
   "source": [
    "### $$y=(x^2+2)^5\\cdot(3x-x^3)^3$$"
   ]
  },
  {
   "cell_type": "markdown",
   "metadata": {},
   "source": [
    "### $$y'=(x^2+2)^5\\cdot(3x-x^3)^3\\cdot(5\\ln{(x^2+2)} + 3\\ln{(3x-x^3)})'$$"
   ]
  },
  {
   "cell_type": "markdown",
   "metadata": {},
   "source": [
    "### $$(5\\ln{(x^2+2)})'=\\frac{10x}{x^2 + 2}$$"
   ]
  },
  {
   "cell_type": "markdown",
   "metadata": {},
   "source": [
    "### $$(3\\ln{(3x-x^3)})'=\\frac{9-9x^2}{3x-x^3}$$"
   ]
  },
  {
   "cell_type": "markdown",
   "metadata": {},
   "source": [
    "### $$y'=\\frac{10x(x^2+2)^5\\cdot(3x-x^3)^3}{x^2 + 2}+\\frac{(9-9x^2)(x^2 + 2)^5 (3x - x^3)^3}{3x - x^3}$$"
   ]
  },
  {
   "cell_type": "markdown",
   "metadata": {},
   "source": [
    "### $$y'=(x^2 + 2)^4 (3x - x^3)^2 (10x(3x - x^3) + (9-9x^2)(x^2 + 2))$$"
   ]
  },
  {
   "cell_type": "code",
   "execution_count": 21,
   "metadata": {},
   "outputs": [
    {
     "data": {
      "image/png": "[encoded data removed]",
      "text/latex": [
       "$\\displaystyle \\left(x^{2} + 2\\right)^{5} \\left(- x^{3} + 3 x\\right)^{3}$"
      ],
      "text/plain": [
       "        5             3\n",
       "⎛ 2    ⎞  ⎛   3      ⎞ \n",
       "⎝x  + 2⎠ ⋅⎝- x  + 3⋅x⎠ "
      ]
     },
     "execution_count": 21,
     "metadata": {},
     "output_type": "execute_result"
    }
   ],
   "source": [
    "x=Symbol('x')\n",
    "y=(x**2+2)**5 * (3*x-x**3)**3\n",
    "y"
   ]
  },
  {
   "cell_type": "code",
   "execution_count": 22,
   "metadata": {},
   "outputs": [
    {
     "data": {
      "image/png": "[encoded data removed]",
      "text/latex": [
       "$\\displaystyle 10 x \\left(x^{2} + 2\\right)^{4} \\left(- x^{3} + 3 x\\right)^{3} + \\left(9 - 9 x^{2}\\right) \\left(x^{2} + 2\\right)^{5} \\left(- x^{3} + 3 x\\right)^{2}$"
      ],
      "text/plain": [
       "             4             3                      5             2\n",
       "     ⎛ 2    ⎞  ⎛   3      ⎞    ⎛       2⎞ ⎛ 2    ⎞  ⎛   3      ⎞ \n",
       "10⋅x⋅⎝x  + 2⎠ ⋅⎝- x  + 3⋅x⎠  + ⎝9 - 9⋅x ⎠⋅⎝x  + 2⎠ ⋅⎝- x  + 3⋅x⎠ "
      ]
     },
     "execution_count": 22,
     "metadata": {},
     "output_type": "execute_result"
    }
   ],
   "source": [
    "diff(y,x)"
   ]
  },
  {
   "cell_type": "markdown",
   "metadata": {},
   "source": [
    "## Task #4"
   ]
  },
  {
   "cell_type": "markdown",
   "metadata": {},
   "source": [
    "### $$y=x^x$$"
   ]
  },
  {
   "cell_type": "markdown",
   "metadata": {},
   "source": [
    "### $$y'=x^x \\cdot (\\ln{x^x})'$$"
   ]
  },
  {
   "cell_type": "markdown",
   "metadata": {},
   "source": [
    "### $$y'=x^x(\\ln{x} + 1)$$"
   ]
  },
  {
   "cell_type": "code",
   "execution_count": 23,
   "metadata": {},
   "outputs": [
    {
     "data": {
      "image/png": "[encoded data removed]",
      "text/latex": [
       "$\\displaystyle x^{x}$"
      ],
      "text/plain": [
       " x\n",
       "x "
      ]
     },
     "execution_count": 23,
     "metadata": {},
     "output_type": "execute_result"
    }
   ],
   "source": [
    "x=Symbol('x')\n",
    "y=x**x\n",
    "y"
   ]
  },
  {
   "cell_type": "code",
   "execution_count": 24,
   "metadata": {},
   "outputs": [
    {
     "data": {
      "image/png": "[encoded data removed]",
      "text/latex": [
       "$\\displaystyle x^{x} \\left(\\log{\\left(x \\right)} + 1\\right)$"
      ],
      "text/plain": [
       " x             \n",
       "x ⋅(log(x) + 1)"
      ]
     },
     "execution_count": 24,
     "metadata": {},
     "output_type": "execute_result"
    }
   ],
   "source": [
    "diff(y,x)"
   ]
  },
  {
   "cell_type": "markdown",
   "metadata": {},
   "source": [
    "## Task #5"
   ]
  },
  {
   "cell_type": "markdown",
   "metadata": {},
   "source": [
    "### $$y=\\frac{(2-x^2)^3\\cdot(x-1)^2}{(2x^3-3x)\\cdot e^x}$$"
   ]
  },
  {
   "cell_type": "code",
   "execution_count": 28,
   "metadata": {},
   "outputs": [
    {
     "data": {
      "image/png": "[encoded data removed]",
      "text/latex": [
       "$\\displaystyle \\frac{\\left(2 - x^{2}\\right)^{3} \\left(x - 1\\right)^{2} e^{- x}}{2 x^{3} - 3 x}$"
      ],
      "text/plain": [
       "        3             \n",
       "⎛     2⎞         2  -x\n",
       "⎝2 - x ⎠ ⋅(x - 1) ⋅ℯ  \n",
       "──────────────────────\n",
       "         3            \n",
       "      2⋅x  - 3⋅x      "
      ]
     },
     "execution_count": 28,
     "metadata": {},
     "output_type": "execute_result"
    }
   ],
   "source": [
    "x=Symbol('x')\n",
    "y=((2-x**2)**3 * (x - 1)**2) / ((2*x**3 - 3*x)*exp(x))\n",
    "y"
   ]
  },
  {
   "cell_type": "code",
   "execution_count": 29,
   "metadata": {},
   "outputs": [
    {
     "data": {
      "image/png": "[encoded data removed]",
      "text/latex": [
       "$\\displaystyle - \\frac{6 x \\left(2 - x^{2}\\right)^{2} \\left(x - 1\\right)^{2} e^{- x}}{2 x^{3} - 3 x} + \\frac{\\left(2 - x^{2}\\right)^{3} \\left(3 - 6 x^{2}\\right) \\left(x - 1\\right)^{2} e^{- x}}{\\left(2 x^{3} - 3 x\\right)^{2}} - \\frac{\\left(2 - x^{2}\\right)^{3} \\left(x - 1\\right)^{2} e^{- x}}{2 x^{3} - 3 x} + \\frac{\\left(2 - x^{2}\\right)^{3} \\left(2 x - 2\\right) e^{- x}}{2 x^{3} - 3 x}$"
      ],
      "text/plain": [
       "              2                        3                                   3  \n",
       "      ⎛     2⎞         2  -x   ⎛     2⎞  ⎛       2⎞        2  -x   ⎛     2⎞   \n",
       "  6⋅x⋅⎝2 - x ⎠ ⋅(x - 1) ⋅ℯ     ⎝2 - x ⎠ ⋅⎝3 - 6⋅x ⎠⋅(x - 1) ⋅ℯ     ⎝2 - x ⎠ ⋅(\n",
       "- ────────────────────────── + ───────────────────────────────── - ───────────\n",
       "             3                                       2                      3 \n",
       "          2⋅x  - 3⋅x                     ⎛   3      ⎞                    2⋅x  \n",
       "                                         ⎝2⋅x  - 3⋅x⎠                         \n",
       "\n",
       "                      3              \n",
       "      2  -x   ⎛     2⎞             -x\n",
       "x - 1) ⋅ℯ     ⎝2 - x ⎠ ⋅(2⋅x - 2)⋅ℯ  \n",
       "─────────── + ───────────────────────\n",
       "                        3            \n",
       "- 3⋅x                2⋅x  - 3⋅x      \n",
       "                                     "
      ]
     },
     "execution_count": 29,
     "metadata": {},
     "output_type": "execute_result"
    }
   ],
   "source": [
    "diff(y,x)"
   ]
  },
  {
   "cell_type": "markdown",
   "metadata": {},
   "source": [
    "## Task #7"
   ]
  },
  {
   "cell_type": "markdown",
   "metadata": {},
   "source": [
    "### $$P = 144$$\n",
    "### $$P = 2x + 2y$$\n",
    "### $$S = xy$$"
   ]
  },
  {
   "cell_type": "markdown",
   "metadata": {},
   "source": [
    "### $$y = 72 - x$$\n",
    "### $$S = 72x - x^2$$"
   ]
  },
  {
   "cell_type": "markdown",
   "metadata": {},
   "source": [
    "### $$S' = 72 - 2x$$"
   ]
  },
  {
   "cell_type": "markdown",
   "metadata": {},
   "source": [
    "### $$72 - 2x = 0$$\n",
    "### $$x = 36$$"
   ]
  },
  {
   "cell_type": "markdown",
   "metadata": {},
   "source": [
    "### $$S'(2\\cdot36) = 72 - 2\\cdot2\\cdot36=-36=> x = 36 - \\max$$"
   ]
  },
  {
   "cell_type": "markdown",
   "metadata": {},
   "source": [
    "### $$y = 72 - 36 = 36$$"
   ]
  },
  {
   "cell_type": "code",
   "execution_count": null,
   "metadata": {},
   "outputs": [],
   "source": []
  }
 ],
 "metadata": {
  "kernelspec": {
   "display_name": "Python 3",
   "language": "python",
   "name": "python3"
  },
  "language_info": {
   "codemirror_mode": {
    "name": "ipython",
    "version": 3
   },
   "file_extension": ".py",
   "mimetype": "text/x-python",
   "name": "python",
   "nbconvert_exporter": "python",
   "pygments_lexer": "ipython3",
   "version": "3.8.3"
  }
 },
 "nbformat": 4,
 "nbformat_minor": 4
}
