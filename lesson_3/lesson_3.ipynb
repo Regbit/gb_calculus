{
 "cells": [
  {
   "cell_type": "markdown",
   "metadata": {},
   "source": [
    "## Task #1"
   ]
  },
  {
   "cell_type": "markdown",
   "metadata": {},
   "source": [
    "### $$а)\\,\\,\\,\\,\\lim_{n\\to \\infty} \\frac{(23-2n^2)(3n^2+17)^2}{4n^6+n-1}=\\Bigl(\\frac{\\infty}{\\infty}\\Bigr)=\\lim_{n\\to \\infty} \\frac{-18n^6}{4n^6}=-4.5$$"
   ]
  },
  {
   "cell_type": "markdown",
   "metadata": {},
   "source": [
    "### $$б)\\,\\,\\,\\,\\lim_{n\\to \\infty} \\frac{(97-2n)^3}{2n(3n^2+15)+8n}=\\Bigl(\\frac{\\infty}{\\infty}\\Bigr)=\\lim_{n\\to \\infty} \\frac{-8n^3}{6n^3}=-\\frac{4}{3}$$"
   ]
  },
  {
   "cell_type": "markdown",
   "metadata": {},
   "source": [
    "### $$в)\\,\\,\\,\\,\\lim_{n\\to \\infty} \\frac{2n^3+13n(n+18)}{(27-n)(2n+19)^2}=\\Bigl(\\frac{\\infty}{\\infty}\\Bigr)=\\lim_{n\\to \\infty} \\frac{2n^3}{-4n^3}=-0.5$$"
   ]
  },
  {
   "cell_type": "markdown",
   "metadata": {},
   "source": [
    "### $$г)\\,\\,\\,\\,\\lim_{n\\to \\infty} (\\sqrt{n^2+1}-n) = (\\infty-\\infty)=\\lim_{n\\to \\infty} \\frac{n^2+1-n^2}{\\sqrt{n^2+1}-n}=\\lim_{n\\to \\infty} \\frac{1}{\\sqrt{n^2+1}-n}=\\Bigl(\\frac{1}{\\infty}\\Bigr)=0$$"
   ]
  },
  {
   "cell_type": "markdown",
   "metadata": {},
   "source": [
    "### $$д)\\,\\,\\,\\,\\lim_{n\\to \\infty} \\frac{(-4)^n+5\\cdot7^n}{(-4)^{n-1}+7^{n+2}}=\\Bigl(\\frac{\\infty}{\\infty}\\Bigr)=\\lim_{n\\to \\infty} \\frac{7^n((-\\frac{4}{7})^n+5)}{7^n((-\\frac{4}{7})^n\\cdot(-\\frac{4}{7})+7^2)}=\\frac{5}{49}$$"
   ]
  },
  {
   "cell_type": "markdown",
   "metadata": {},
   "source": [
    "е) Вероятно, предел равен сумме ряда\n",
    "### $$\\,\\,\\,\\,\\lim_{n\\to \\infty} \\Bigl(\\frac{1}{1\\cdot2}+\\frac{1}{2\\cdot3}+\\frac{1}{3\\cdot4}+...+\\frac{1}{(n-1)\\cdot n}\\Bigr)=\\sum \\limits _{i=1} ^{n} \\frac{1}{(n-1)\\cdot n}$$"
   ]
  },
  {
   "cell_type": "markdown",
   "metadata": {},
   "source": [
    "## Task #2"
   ]
  },
  {
   "cell_type": "markdown",
   "metadata": {},
   "source": [
    "### $$\\,\\,\\,\\,1=\\frac{1}{2}+\\frac{1}{3}+\\frac{1}{6}$$"
   ]
  },
  {
   "cell_type": "markdown",
   "metadata": {},
   "source": [
    "## Task #3"
   ]
  },
  {
   "cell_type": "markdown",
   "metadata": {},
   "source": [
    "## Task #4"
   ]
  },
  {
   "cell_type": "markdown",
   "metadata": {},
   "source": [
    "### $$a_n = \\sum \\limits _{i=1} ^{n} \\frac{\\sin n}{2^n}$$"
   ]
  },
  {
   "cell_type": "markdown",
   "metadata": {},
   "source": [
    "### $$a_{n+k} = \\sum \\limits _{i=1} ^{n} \\frac{\\sin (n+k)}{2^{n+k}}$$"
   ]
  },
  {
   "cell_type": "markdown",
   "metadata": {},
   "source": [
    "### $$\\sin (n+k)=\\sin n \\cdot \\cos k + \\cos n \\cdot \\sin k=\\sin n \\cdot \\cos k \\cdot (1 + \\cot n \\cdot \\tan k)$$"
   ]
  },
  {
   "cell_type": "markdown",
   "metadata": {},
   "source": [
    "### $$a_{n+k} = \\frac{\\cos k}{2^k} \\sum \\limits _{i=1} ^{n} \\frac{\\sin n}{2^{n}} \\cdot \\sum \\limits _{i=1} ^{n} (1 + \\cot n \\cdot \\tan k)$$"
   ]
  },
  {
   "cell_type": "markdown",
   "metadata": {},
   "source": [
    "### $$a_{n+k} = a_{n} \\cdot\\frac{\\cos k}{2^k} \\sum \\limits _{i=1} ^{n} (1 + \\cot n \\cdot \\tan k)$$"
   ]
  },
  {
   "cell_type": "markdown",
   "metadata": {},
   "source": [
    "### $$|a_n-a_{n+k}|=\\Bigl|a_n-a_{n} \\cdot\\frac{\\cos k}{2^k} \\sum \\limits _{i=1} ^{n} (1 + \\cot n \\cdot \\tan k)\\Bigr| = a_{n} \\cdot \\Bigl|1- \\cdot\\frac{\\cos k}{2^k} \\sum \\limits _{i=1} ^{n} (1 + \\cot n \\cdot \\tan k)\\Bigr|$$"
   ]
  },
  {
   "cell_type": "code",
   "execution_count": null,
   "metadata": {},
   "outputs": [],
   "source": []
  }
 ],
 "metadata": {
  "kernelspec": {
   "display_name": "Python 3",
   "language": "python",
   "name": "python3"
  },
  "language_info": {
   "codemirror_mode": {
    "name": "ipython",
    "version": 3
   },
   "file_extension": ".py",
   "mimetype": "text/x-python",
   "name": "python",
   "nbconvert_exporter": "python",
   "pygments_lexer": "ipython3",
   "version": "3.8.3"
  }
 },
 "nbformat": 4,
 "nbformat_minor": 4
}
