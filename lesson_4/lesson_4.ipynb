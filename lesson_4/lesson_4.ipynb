{
 "cells": [
  {
   "cell_type": "markdown",
   "metadata": {},
   "source": [
    "## Task #1"
   ]
  },
  {
   "cell_type": "markdown",
   "metadata": {},
   "source": [
    "### $$а)\\,\\,\\,\\,\\lim_{x\\to 6} \\frac{x^2-36}{x^2-x-30}=\\Bigl(\\frac{0}{0}\\Bigr)=\\lim_{x\\to 6} \\frac{(x-6)(x+6)}{(x-6)(x+5)}=\\lim_{x\\to 6} \\frac{x+6}{x+5}=\\frac{6+6}{6+5}=\\frac{12}{11}$$"
   ]
  },
  {
   "cell_type": "markdown",
   "metadata": {},
   "source": [
    "### $$б)\\,\\,\\,\\,\\lim_{x\\to 7} \\frac{x^2-49}{x^2-13x+42}=\\Bigl(\\frac{0}{0}\\Bigr)=\\lim_{x\\to 7} \\frac{(x-7)(x+7)}{(x-7)(x-6)}=\\lim_{x\\to 7} \\frac{x+7}{x-6}=\\frac{7+7}{7-6}=14$$"
   ]
  },
  {
   "cell_type": "markdown",
   "metadata": {},
   "source": [
    "### $$в^*)\\,\\,\\,\\,\\lim_{x\\to 7} \\frac{\\sqrt{x+2}-\\sqrt[3]{x+20}}{\\sqrt[4]{x+9}-2}=\\Bigl(\\frac{0}{0}\\Bigr)=???$$"
   ]
  },
  {
   "cell_type": "markdown",
   "metadata": {},
   "source": [
    "### $$г)\\,\\,\\,\\,\\lim_{x\\to 0} \\frac{3x\\,\\mbox{tg}\\,4x}{1-\\cos4x}=\\Bigl(\\frac{0}{0}\\Bigr)=\\lim_{x\\to 0} \\frac{2\\cdot3x\\cdot4x}{(4x)^2}=\\lim_{x\\to 0} \\frac{24x^2}{16x^2}=1.5$$"
   ]
  },
  {
   "cell_type": "markdown",
   "metadata": {},
   "source": [
    "### $$д^{**})\\,\\,\\,\\,\\lim_{x\\to 0} \\frac{\\sqrt2x^2\\sin4x}{(1-\\cos2x)^{\\frac{3}{2}}}=\\Bigl(\\frac{0}{0}\\Bigr)=\\lim_{x\\to 0} \\frac{\\sqrt2x^2\\sin4x}{{\\frac{(2x)^2}{2}}^{\\frac{3}{2}}}=\\lim_{x\\to 0} \\frac{\\sqrt2x^2\\sin4x}{\\frac{4x\\cdot x^2}{\\sqrt 2}}=\\lim_{x\\to 0} \\frac{2 \\cdot \\sin4x}{4x}=2$$"
   ]
  },
  {
   "cell_type": "markdown",
   "metadata": {},
   "source": [
    "### $$е)\\,\\,\\,\\,\\lim_{x\\to \\infty} \\Bigr(\\frac{4x}{4x+3}\\Bigl)^\\frac{5x^2}{7x-1}=(1)^{+\\infty}=\\lim_{x\\to \\infty} \\Bigr(1+\\frac{-3}{4x+3}\\Bigl)^\\frac{5x^2}{7x-1}=\\lim_{x\\to \\infty} \\Bigr(1+\\frac{-3}{4x+3}\\Bigl)^{\\frac{-3}{4x+3}\\cdot\\frac{4x+3}{-3}\\cdot\\frac{5x^2}{7x-1}}=\\lim_{x\\to \\infty} e^{\\frac{4x+3}{-3}\\cdot\\frac{5x^2}{7x-1}}=e^{20}$$"
   ]
  },
  {
   "cell_type": "markdown",
   "metadata": {},
   "source": [
    "### $$ж^*)\\,\\,\\,\\,\\lim_{x\\to +0} \\frac{5^x-1}{x}=???$$"
   ]
  },
  {
   "cell_type": "markdown",
   "metadata": {},
   "source": [
    "### $$з^*)\\,\\,\\,\\,\\lim_{x\\to +\\infty} \\frac{\\ln(x^2-x+1)}{\\ln(x^{10}+x+1)}=???$$"
   ]
  },
  {
   "cell_type": "markdown",
   "metadata": {},
   "source": [
    "## Task #2"
   ]
  },
  {
   "cell_type": "markdown",
   "metadata": {},
   "source": [
    "### $$\\lim_{x\\to +\\infty} \\frac{x}{\\sqrt[x]{x!}}$$"
   ]
  },
  {
   "cell_type": "code",
   "execution_count": null,
   "metadata": {},
   "outputs": [],
   "source": []
  }
 ],
 "metadata": {
  "kernelspec": {
   "display_name": "Python 3",
   "language": "python",
   "name": "python3"
  },
  "language_info": {
   "codemirror_mode": {
    "name": "ipython",
    "version": 3
   },
   "file_extension": ".py",
   "mimetype": "text/x-python",
   "name": "python",
   "nbconvert_exporter": "python",
   "pygments_lexer": "ipython3",
   "version": "3.8.3"
  }
 },
 "nbformat": 4,
 "nbformat_minor": 4
}
