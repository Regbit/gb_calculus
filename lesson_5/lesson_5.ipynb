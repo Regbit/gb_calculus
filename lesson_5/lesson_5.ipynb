{
 "cells": [
  {
   "cell_type": "markdown",
   "metadata": {},
   "source": [
    "## Task #1"
   ]
  },
  {
   "cell_type": "markdown",
   "metadata": {},
   "source": [
    "### $$y=\\frac{1}{x}+\\frac{2}{x^2}-\\frac{5}{x^3}+\\sqrt x -\\sqrt[3]x+\\frac{3}{\\sqrt x}$$\n",
    "### $$y'=1-\\frac{4}{x^3}+\\frac{15}{x^4}+\\frac{1}{2\\sqrt{x}}-\\frac{3}{2}\\sqrt{x}-\\frac{3}{2\\sqrt[3]x}$$"
   ]
  },
  {
   "cell_type": "markdown",
   "metadata": {},
   "source": [
    "## Task #2"
   ]
  },
  {
   "cell_type": "markdown",
   "metadata": {},
   "source": [
    "### $$y=x \\cdot \\sqrt {1+x^2}$$\n",
    "### $$y'=\\sqrt{1+x^2} + x \\cdot \\frac{1}{2\\sqrt{1+x^2}} \\cdot 2x$$\n",
    "### $$y'=\\sqrt{1+x^2} + \\frac{x^2}{\\sqrt{1+x^2}}$$\n",
    "### $$y'=\\frac{1+2x^2}{\\sqrt{1+x^2}}$$"
   ]
  },
  {
   "cell_type": "markdown",
   "metadata": {},
   "source": [
    "## Task #3"
   ]
  },
  {
   "cell_type": "markdown",
   "metadata": {},
   "source": [
    "### $$y= \\frac{2x}{1-x^2}$$\n",
    "### $$y'= \\frac{2(1-x^2)-2x(-2x)}{(1-x^2)^2}$$\n",
    "### $$y'= \\frac{2-2x^2+4x^2}{(1-x^2)^2}$$\n",
    "### $$y'= \\frac{2(1+x^2)}{(1-x^2)^2}$$"
   ]
  },
  {
   "cell_type": "markdown",
   "metadata": {},
   "source": [
    "## Task #4*"
   ]
  },
  {
   "cell_type": "markdown",
   "metadata": {},
   "source": [
    "### $$y=\\sqrt{x+ \\sqrt{x+\\sqrt x}}$$\n",
    "### $$y'=\\frac{1}{2 \\cdot \\sqrt{x+\\sqrt{x+\\sqrt{x}}}} \\cdot \\Bigl(1+\\frac{1}{2\\sqrt{x+\\sqrt{x}}}\\Bigr) \\cdot \\Bigl(1+\\frac{1}{2\\sqrt{x}}\\Bigr)$$"
   ]
  },
  {
   "cell_type": "markdown",
   "metadata": {},
   "source": [
    "## Task #5"
   ]
  },
  {
   "cell_type": "markdown",
   "metadata": {},
   "source": [
    "### $$y= \\ln(x+\\sqrt{x^2+1})$$\n",
    "### $$y'= \\frac{1}{x+\\sqrt{x^2 + 1}} \\cdot \\Bigl(1+\\frac{2x}{2\\sqrt{x^2+1}}\\Bigr)$$\n",
    "### $$y'= \\frac{1}{x+\\sqrt{x^2 + 1}} \\cdot \\frac{\\sqrt{x^2 + 1} + x}{\\sqrt{x^2+1}}$$\n",
    "### $$y'= \\frac{1}{\\sqrt{x^2+1}}$$"
   ]
  },
  {
   "cell_type": "markdown",
   "metadata": {},
   "source": [
    "## Task #6"
   ]
  },
  {
   "cell_type": "markdown",
   "metadata": {},
   "source": [
    "### $$y=x \\cdot \\ln(x+\\sqrt{x^2+1})-\\sqrt{x^2+1}$$\n",
    "### $$y'=\\ln(x+\\sqrt{x^2+1})+\\frac{x}{\\sqrt{x^2 + 1}} - \\frac{x}{\\sqrt{x^2 + 1}}$$\n",
    "### $$y'=\\ln(x+\\sqrt{x^2+1})$$"
   ]
  },
  {
   "cell_type": "code",
   "execution_count": null,
   "metadata": {},
   "outputs": [],
   "source": []
  }
 ],
 "metadata": {
  "kernelspec": {
   "display_name": "Python 3",
   "language": "python",
   "name": "python3"
  },
  "language_info": {
   "codemirror_mode": {
    "name": "ipython",
    "version": 3
   },
   "file_extension": ".py",
   "mimetype": "text/x-python",
   "name": "python",
   "nbconvert_exporter": "python",
   "pygments_lexer": "ipython3",
   "version": "3.8.3"
  }
 },
 "nbformat": 4,
 "nbformat_minor": 4
}
