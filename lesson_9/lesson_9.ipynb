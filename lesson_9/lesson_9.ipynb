{
 "cells": [
  {
   "cell_type": "markdown",
   "metadata": {},
   "source": [
    "## Task #1"
   ]
  },
  {
   "cell_type": "markdown",
   "metadata": {},
   "source": [
    "### $$\\int \\frac{2x+3}{(x-2)(x+5)}\\,dx$$"
   ]
  },
  {
   "cell_type": "markdown",
   "metadata": {},
   "source": [
    "### $$\\frac{2x+3}{(x-2)(x+5)}=\\frac{A}{x-2}+\\frac{B}{x+5}=\\frac{x(A+B)+(5A-2B)}{(x-2)(x+5)}$$"
   ]
  },
  {
   "cell_type": "markdown",
   "metadata": {},
   "source": [
    "### $$\\begin{cases}\n",
    "   A+B=2 \\\\\n",
    "   5A-2B=3\n",
    " \\end{cases}\\,\\,\\,\\,\\,\\Rightarrow\\,\\,\\,\\,\\, \n",
    " \\begin{cases}\n",
    "   A=1 \\\\\n",
    "   B=1\n",
    " \\end{cases}$$ "
   ]
  },
  {
   "cell_type": "markdown",
   "metadata": {},
   "source": [
    "### $$\\frac{2x+3}{(x-2)(x+5)}=\\frac{1}{x-2}+\\frac{1}{x+5}$$"
   ]
  },
  {
   "cell_type": "markdown",
   "metadata": {},
   "source": [
    "### $$\\int \\frac{2x+3}{(x-2)(x+5)}\\,dx=\\int \\frac{1}{x-2}\\,dx + \\int \\frac{1}{x+5}\\,dx=\\ln{|x-2|}+\\ln{|x+5|}+C$$"
   ]
  },
  {
   "cell_type": "markdown",
   "metadata": {},
   "source": [
    "## Task #2"
   ]
  },
  {
   "cell_type": "markdown",
   "metadata": {},
   "source": [
    "### $$\\int e^{2x}\\cos 3x\\,dx$$"
   ]
  },
  {
   "cell_type": "markdown",
   "metadata": {},
   "source": [
    "### $$U=e^{2x}\\,\\,\\,\\,\\,\\Rightarrow\\,\\,\\,\\,\\, dU=2e^{2x}dx$$ \n",
    "### $$dV=\\cos 3xdx\\,\\,\\,\\,\\,\\Rightarrow\\,\\,\\,\\,\\, V=\\frac{\\sin 3x}{3}$$ "
   ]
  },
  {
   "cell_type": "markdown",
   "metadata": {},
   "source": [
    "### $$\\int e^{2x}\\cos 3x\\,dx=e^{2x} \\cdot \\frac{\\sin{3x}}{3} - \\frac{2}{3} \\cdot \\int e^{2x}\\sin{3x}\\,dx$$"
   ]
  },
  {
   "cell_type": "markdown",
   "metadata": {},
   "source": [
    "### $$U=e^{2x}\\,\\,\\,\\,\\,\\Rightarrow\\,\\,\\,\\,\\, dU=2e^{2x}dx$$ \n",
    "### $$dV=\\sin 3xdx\\,\\,\\,\\,\\,\\Rightarrow\\,\\,\\,\\,\\, V=-\\frac{\\cos 3x}{3}$$ "
   ]
  },
  {
   "cell_type": "markdown",
   "metadata": {},
   "source": [
    "### $$\\int e^{2x}\\cos 3x\\,dx=\\frac{e^{2x}\\sin{3x}}{3} - \\frac{2}{3} \\Bigl(-\\frac{e^{2x}\\cos{3x}}{3} + \\frac{2}{3}\\int e^{2x}\\cos 3x\\,dx\\Bigr)$$"
   ]
  },
  {
   "cell_type": "markdown",
   "metadata": {},
   "source": [
    "### $$\\int e^{2x}\\cos{3x}\\,dx=\\frac{e^{2x}(3\\sin{3x} + 2\\cos{3x})}{9} - \\frac{4}{9} \\int e^{2x}\\cos{3x}\\,dx\\$$"
   ]
  },
  {
   "cell_type": "markdown",
   "metadata": {},
   "source": [
    "### $$\\int e^{2x}\\cos 3x\\,dx=\\frac{e^{2x}(3\\sin{3x} + 2\\cos{3x})}{13}$$"
   ]
  },
  {
   "cell_type": "markdown",
   "metadata": {},
   "source": [
    "## Task #3"
   ]
  },
  {
   "cell_type": "markdown",
   "metadata": {},
   "source": [
    "### $$\\int\\limits_0^{\\ln2} xe^{-x}\\,dx$$"
   ]
  },
  {
   "cell_type": "markdown",
   "metadata": {},
   "source": [
    "### $$U=x\\,\\,\\,\\,\\,\\Rightarrow\\,\\,\\,\\,\\, dU=1$$ \n",
    "### $$dV=e^{-x}dx\\,\\,\\,\\,\\,\\Rightarrow\\,\\,\\,\\,\\, V=-e^{-x}$$ "
   ]
  },
  {
   "cell_type": "markdown",
   "metadata": {},
   "source": [
    "### $$\\int\\limits_0^{\\ln2} xe^{-x}\\,dx=-xe^{-x} \\bigg|_0^{\\ln{2}} + \\int\\limits_0^{\\ln2} e^{-x}\\,dx=(-xe^{-x} - e^{-x})\\bigg|_0^{\\ln{2}}= - e^{-x}(x + 1)\\bigg|_0^{\\ln{2}} = -\\frac{1}{2}(\\ln{2}+1)+1=\\frac{1}{2}(1-\\ln{2}) \\approx 0.15343$$"
   ]
  },
  {
   "cell_type": "markdown",
   "metadata": {},
   "source": [
    "## Task #4"
   ]
  },
  {
   "cell_type": "markdown",
   "metadata": {},
   "source": [
    "### $$\\int\\limits_2^{+\\infty} \\frac{dx}{x^2+x-2}=\\lim_{b\\to +\\infty}\\int\\limits_{2}^b \\frac{dx}{(x-1)(x+2)}$$"
   ]
  },
  {
   "cell_type": "markdown",
   "metadata": {},
   "source": [
    "### $$\\frac{1}{(x-1)(x+2)}=\\frac{A}{x-1}+\\frac{B}{x+2}=\\frac{x(A+B)+(2A-B)}{(x-1)(x+2)}$$"
   ]
  },
  {
   "cell_type": "markdown",
   "metadata": {},
   "source": [
    "### $$\\begin{cases}\n",
    "   A+B=0 \\\\\n",
    "   2A-B=1\n",
    " \\end{cases}\\,\\,\\,\\,\\,\\Rightarrow\\,\\,\\,\\,\\, \n",
    " \\begin{cases}\n",
    "   A=\\frac{1}{3} \\\\\n",
    "   B=-\\frac{1}{3} \n",
    " \\end{cases}$$ "
   ]
  },
  {
   "cell_type": "markdown",
   "metadata": {},
   "source": [
    "### $$\\lim_{b\\to +\\infty}\\int\\limits_{2}^b \\frac{dx}{(x-1)(x+2)}=\\frac{1}{3}\\lim_{b\\to +\\infty} \\Bigl(\\int\\limits_{2}^b \\frac{dx}{x-1}-\\int\\limits_{2}^b \\frac{dx}{x+2}\\Bigr)=\\frac{1}{3}\\lim_{b\\to +\\infty}\\Bigl(\\ln{\\frac{x-1}{x+2}}\\Bigr)\\bigg|_2^{b}=$$"
   ]
  },
  {
   "cell_type": "markdown",
   "metadata": {},
   "source": [
    "### $$=\\frac{1}{3}\\lim_{b\\to +\\infty}\\Bigl(\\ln{\\frac{b-1}{b+2}}\\Bigr)-\\frac{1}{3}\\ln{\\frac{1}{4}}=-\\frac{1}{3}\\ln{\\frac{1}{4}}\\approx -0.4621$$"
   ]
  },
  {
   "cell_type": "code",
   "execution_count": null,
   "metadata": {},
   "outputs": [],
   "source": []
  }
 ],
 "metadata": {
  "kernelspec": {
   "display_name": "Python 3",
   "language": "python",
   "name": "python3"
  },
  "language_info": {
   "codemirror_mode": {
    "name": "ipython",
    "version": 3
   },
   "file_extension": ".py",
   "mimetype": "text/x-python",
   "name": "python",
   "nbconvert_exporter": "python",
   "pygments_lexer": "ipython3",
   "version": "3.8.3"
  }
 },
 "nbformat": 4,
 "nbformat_minor": 4
}
